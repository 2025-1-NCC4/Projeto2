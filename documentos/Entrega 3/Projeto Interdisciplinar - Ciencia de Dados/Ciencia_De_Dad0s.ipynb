{
  "nbformat": 4,
  "nbformat_minor": 0,
  "metadata": {
    "colab": {
      "provenance": []
    },
    "kernelspec": {
      "name": "python3",
      "display_name": "Python 3"
    },
    "language_info": {
      "name": "python"
    }
  },
  "cells": [
    {
      "cell_type": "markdown",
      "source": [],
      "metadata": {
        "id": "7JaEPio3yxbN"
      }
    },
    {
      "cell_type": "markdown",
      "source": [
        "###Equipe:\n",
        "\n",
        "- 🔹 Jenifer Barreto\n",
        "\n",
        "- 🔹 Eduarda Lopes\n",
        "\n",
        "- 🔹 Maria Kassandra\n",
        "\n",
        "- 🔹 Flávio Santos"
      ],
      "metadata": {
        "id": "iouIkPGw1F9C"
      }
    },
    {
      "cell_type": "code",
      "source": [
        "!pip install dash"
      ],
      "metadata": {
        "id": "sGR3e3CYGWYA",
        "collapsed": true
      },
      "execution_count": null,
      "outputs": []
    },
    {
      "cell_type": "code",
      "source": [
        "!pip install -U kaleido"
      ],
      "metadata": {
        "id": "yNlyEi9HwNz9"
      },
      "execution_count": null,
      "outputs": []
    },
    {
      "cell_type": "code",
      "source": [
        "import pandas as pd\n",
        "dados_df=pd.read_excel('correlacaoIPCA.xlsx')"
      ],
      "metadata": {
        "id": "w-elKx_SLgBw"
      },
      "execution_count": null,
      "outputs": []
    },
    {
      "cell_type": "markdown",
      "source": [
        "Visualização Interativa de Indicadores Econômicos: IPCA, SELIC e Inadimplência"
      ],
      "metadata": {
        "id": "MwRFVY5MHdGe"
      }
    },
    {
      "source": [
        "from dash import dcc, html, Input, Output\n",
        "import dash\n",
        "import plotly.express as px\n",
        "import pandas as pd\n",
        "\n",
        "# Carrega os dados\n",
        "dados_df = pd.read_excel(\"correlacaoIPCA.xlsx\")\n",
        "dados_df.columns = dados_df.columns.str.strip()  # remove espaços extras\n",
        "dados_df['Date'] = pd.to_datetime(dados_df['Date'])  # garante que Date seja datetime\n",
        "\n",
        "app = dash.Dash(__name__)\n",
        "\n",
        "app.layout = html.Div([\n",
        "    dcc.Dropdown(\n",
        "        id='variavel-dropdown',\n",
        "        options=[\n",
        "            {'label': 'IPCA', 'value': 'IPCA'},\n",
        "            {'label': 'SELIC', 'value': 'SELIC'},\n",
        "            {'label': 'Inadimplência', 'value': 'Inadimplencia'}\n",
        "        ],\n",
        "        value='IPCA'\n",
        "    ),\n",
        "    dcc.Graph(id='grafico-variavel')\n",
        "])\n",
        "\n",
        "@app.callback(\n",
        "    Output('grafico-variavel', 'figure'),\n",
        "    Input('variavel-dropdown', 'value')\n",
        ")\n",
        "def update_graph(variavel):\n",
        "\n",
        "    grouped_data = dados_df.groupby(\"Date\", as_index=False)[variavel].mean() # Agrupa por data e calcula a média da variável escolhida\n",
        "\n",
        "    fig = px.bar(grouped_data, x='Date', y=variavel, title=f'Dados do {variavel}')\n",
        "\n",
        "    return fig\n",
        "\n",
        "if __name__ == '__main__':\n",
        "    app.run(debug=True)\n"
      ],
      "cell_type": "code",
      "metadata": {
        "id": "kCSrddB6Y4Co",
        "colab": {
          "base_uri": "https://localhost:8080/",
          "height": 671
        },
        "outputId": "e8724c47-6327-42f1-a782-cc2761d65754"
      },
      "execution_count": 66,
      "outputs": [
        {
          "output_type": "display_data",
          "data": {
            "text/plain": [
              "<IPython.core.display.Javascript object>"
            ],
            "application/javascript": [
              "(async (port, path, width, height, cache, element) => {\n",
              "    if (!google.colab.kernel.accessAllowed && !cache) {\n",
              "      return;\n",
              "    }\n",
              "    element.appendChild(document.createTextNode(''));\n",
              "    const url = await google.colab.kernel.proxyPort(port, {cache});\n",
              "    const iframe = document.createElement('iframe');\n",
              "    iframe.src = new URL(path, url).toString();\n",
              "    iframe.height = height;\n",
              "    iframe.width = width;\n",
              "    iframe.style.border = 0;\n",
              "    iframe.allow = [\n",
              "        'accelerometer',\n",
              "        'autoplay',\n",
              "        'camera',\n",
              "        'clipboard-read',\n",
              "        'clipboard-write',\n",
              "        'gyroscope',\n",
              "        'magnetometer',\n",
              "        'microphone',\n",
              "        'serial',\n",
              "        'usb',\n",
              "        'xr-spatial-tracking',\n",
              "    ].join('; ');\n",
              "    element.appendChild(iframe);\n",
              "  })(8050, \"/\", \"100%\", 650, false, window.element)"
            ]
          },
          "metadata": {}
        }
      ]
    },
    {
      "cell_type": "markdown",
      "source": [
        "Comparação de gráficos"
      ],
      "metadata": {
        "id": "lmMwjyv5nwue"
      }
    },
    {
      "cell_type": "code",
      "source": [
        "from dash import dcc, html, Input, Output\n",
        "import dash\n",
        "import plotly.express as px\n",
        "import pandas as pd\n",
        "\n",
        "# Carrega os dados\n",
        "dados_df = pd.read_excel(\"correlacaoIPCA.xlsx\")\n",
        "dados_df.columns = dados_df.columns.str.strip()  # remove espaços extras nos nomes das colunas\n",
        "\n",
        "app = dash.Dash(__name__)\n",
        "\n",
        "\n",
        "app.layout = html.Div([   # Layout com apenas um dropdown e gráfico\n",
        "    html.Div([\n",
        "        dcc.Dropdown(\n",
        "            id='variavel-economica-dropdown',\n",
        "            options=[\n",
        "                {'label': 'IPCA', 'value': 'IPCA'},\n",
        "                {'label': 'SELIC', 'value': 'SELIC'},\n",
        "                {'label': 'Inadimplencia', 'value': 'Inadimplencia'}\n",
        "            ],\n",
        "            value='IPCA',\n",
        "            placeholder=\"Escolha um indicador econômico\"\n",
        "        )\n",
        "    ], style={'width': '50%', 'padding': '20px'}),\n",
        "\n",
        "    html.Div([\n",
        "        dcc.Graph(id='grafico-indicador-economico')\n",
        "    ], style={'width': '90%', 'padding': '20px'})\n",
        "])\n",
        "\n",
        "# Callback para o gráfico\n",
        "@app.callback(\n",
        "    Output('grafico-indicador-economico', 'figure'),\n",
        "    Input('variavel-economica-dropdown', 'value')\n",
        ")\n",
        "def update_indicador_economico(variavel):\n",
        "    grouped_data = dados_df.groupby('Date', as_index=False)[variavel].mean()\n",
        "    fig = px.line(grouped_data, x='Date', y=variavel,\n",
        "                  title=f'Evolução de {variavel} ao longo do tempo')\n",
        "    return fig\n",
        "\n",
        "if __name__ == '__main__':\n",
        "    app.run(debug=True)\n"
      ],
      "metadata": {
        "id": "e1hCEEr8nsLv",
        "colab": {
          "base_uri": "https://localhost:8080/",
          "height": 671
        },
        "outputId": "99fcff92-bd53-4430-8dbe-a1ffc6f7be47"
      },
      "execution_count": null,
      "outputs": [
        {
          "output_type": "display_data",
          "data": {
            "text/plain": [
              "<IPython.core.display.Javascript object>"
            ],
            "application/javascript": [
              "(async (port, path, width, height, cache, element) => {\n",
              "    if (!google.colab.kernel.accessAllowed && !cache) {\n",
              "      return;\n",
              "    }\n",
              "    element.appendChild(document.createTextNode(''));\n",
              "    const url = await google.colab.kernel.proxyPort(port, {cache});\n",
              "    const iframe = document.createElement('iframe');\n",
              "    iframe.src = new URL(path, url).toString();\n",
              "    iframe.height = height;\n",
              "    iframe.width = width;\n",
              "    iframe.style.border = 0;\n",
              "    iframe.allow = [\n",
              "        'accelerometer',\n",
              "        'autoplay',\n",
              "        'camera',\n",
              "        'clipboard-read',\n",
              "        'clipboard-write',\n",
              "        'gyroscope',\n",
              "        'magnetometer',\n",
              "        'microphone',\n",
              "        'serial',\n",
              "        'usb',\n",
              "        'xr-spatial-tracking',\n",
              "    ].join('; ');\n",
              "    element.appendChild(iframe);\n",
              "  })(8050, \"/\", \"100%\", 650, false, window.element)"
            ]
          },
          "metadata": {}
        }
      ]
    },
    {
      "cell_type": "markdown",
      "source": [
        "**Gráfico de linha com a variação ao longo do tempo**"
      ],
      "metadata": {
        "id": "lxWh5ljipOWO"
      }
    },
    {
      "cell_type": "code",
      "source": [
        "from dash import dcc, html, Input, Output\n",
        "import dash\n",
        "import plotly.express as px\n",
        "import pandas as pd\n",
        "\n",
        "# Carregar e preparar os dados\n",
        "df = pd.read_excel(\"correlacaoIPCA.xlsx\")\n",
        "df.columns = df.columns.str.strip()  # Remover espaços em branco dos nomes das colunas\n",
        "\n",
        "app = dash.Dash(__name__)\n",
        "\n",
        "# Layout com dois gráficos\n",
        "app.layout = html.Div([\n",
        "    html.H2(\"Indicadores Econômicos\"),\n",
        "\n",
        "    html.Div([\n",
        "        dcc.Graph(id='grafico-media-indicadores'),\n",
        "        dcc.Graph(id='grafico-linha-indicadores')\n",
        "    ])\n",
        "])\n",
        "\n",
        "# Callback para atualizar os dois gráficos\n",
        "@app.callback(\n",
        "    Output('grafico-media-indicadores', 'figure'),\n",
        "    Output('grafico-linha-indicadores', 'figure'),\n",
        "    Input('grafico-media-indicadores', 'id')  # Trigger de carregamento\n",
        ")\n",
        "def atualizar_graficos(_):\n",
        "    # Gráfico de médias\n",
        "    medias = df[['SELIC', 'IPCA', 'Inadimplencia']].mean().reset_index()\n",
        "    medias.columns = ['Indicador', 'Média']\n",
        "    fig_media = px.bar(medias, x='Indicador',  y='Média', title='Média dos Indicadores Econômicos')\n",
        "\n",
        "\n",
        "    # Gráfico de linha temporal\n",
        "    df['Date'] = pd.to_datetime(df['Date'])\n",
        "    df_longo = df.melt(id_vars='Date', value_vars=['SELIC', 'IPCA', 'Inadimplencia'],\n",
        "                       var_name='Indicador', value_name='Valor')\n",
        "    fig_linha = px.line(df_longo, x='Date', y='Valor', color='Indicador',\n",
        "                        title='Evolução dos Indicadores Econômicos ao Longo do Tempo')\n",
        "\n",
        "    return fig_media, fig_linha\n",
        "\n",
        "\n",
        "if __name__ == '__main__':\n",
        "    app.run(debug=True)\n",
        "\n"
      ],
      "metadata": {
        "id": "6a-kt5jRoQ8f",
        "colab": {
          "base_uri": "https://localhost:8080/",
          "height": 671
        },
        "outputId": "e32e484b-e939-4062-ffa8-d18cb429622a"
      },
      "execution_count": null,
      "outputs": [
        {
          "output_type": "display_data",
          "data": {
            "text/plain": [
              "<IPython.core.display.Javascript object>"
            ],
            "application/javascript": [
              "(async (port, path, width, height, cache, element) => {\n",
              "    if (!google.colab.kernel.accessAllowed && !cache) {\n",
              "      return;\n",
              "    }\n",
              "    element.appendChild(document.createTextNode(''));\n",
              "    const url = await google.colab.kernel.proxyPort(port, {cache});\n",
              "    const iframe = document.createElement('iframe');\n",
              "    iframe.src = new URL(path, url).toString();\n",
              "    iframe.height = height;\n",
              "    iframe.width = width;\n",
              "    iframe.style.border = 0;\n",
              "    iframe.allow = [\n",
              "        'accelerometer',\n",
              "        'autoplay',\n",
              "        'camera',\n",
              "        'clipboard-read',\n",
              "        'clipboard-write',\n",
              "        'gyroscope',\n",
              "        'magnetometer',\n",
              "        'microphone',\n",
              "        'serial',\n",
              "        'usb',\n",
              "        'xr-spatial-tracking',\n",
              "    ].join('; ');\n",
              "    element.appendChild(iframe);\n",
              "  })(8050, \"/\", \"100%\", 650, false, window.element)"
            ]
          },
          "metadata": {}
        }
      ]
    }
  ]
}