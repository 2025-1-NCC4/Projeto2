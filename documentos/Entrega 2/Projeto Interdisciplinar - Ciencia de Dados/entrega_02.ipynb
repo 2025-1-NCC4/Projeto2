{
 "cells": [
  {
   "cell_type": "markdown",
   "id": "1578bb50",
   "metadata": {},
   "source": [
    "# ENTREGA: 02\n",
    "\n",
    "## 📊 Primeira Correlação\n",
    "\n",
    "**Equipe:**  \n",
    "- Jenifer Barreto  \n",
    "- Eduarda Lopes  \n",
    "- Maria Kassandra  \n",
    "- Flávio Santos"
   ]
  },
  {
   "cell_type": "code",
   "execution_count": null,
   "id": "0a4dc383",
   "metadata": {},
   "outputs": [],
   "source": [
    "import matplotlib.pyplot as plt \n",
    "import pandas as pd\n",
    "from bcb import sgs\n",
    "\n",
    "# Etapa 0: Coletar dados do BACEN\n",
    "correlacao_01 = sgs.get({'Selic': 4390, 'Inadimplencia': 15885, 'IPCA': 433}, start='2004-01-01')\n",
    "df = correlacao_01.dropna().reset_index()  # Limpa nulos e reseta índice\n",
    "# print(df)\n",
    "\n",
    "# 1. Limpar e Uniformizar os Dados\n",
    "df.columns = [col.lower().replace(\" \", \"_\") for col in df.columns]  # padroniza nomes das colunas para minusculas e muda os espaços para underline\n",
    "df.rename(columns={'date': 'data'}, inplace=True)  # renomeia a coluna date para data em pt-BR\n",
    "df['data'] = pd.to_datetime(df['data'])  # converte a coluna data para o tipo datatime\n",
    "\n",
    "# 2. Derivar Dados\n",
    "df['selic_var_pct'] = df['selic'].pct_change() *100 #calcula a variação percentual entre o mes atual e o ultimo mês e multiplica por 100 paratrazer o valor em porcentagem\n",
    "df['ipca_var_pct'] = df['ipca'].pct_change() *100 #calcula a variação percentual entre o mes atual e o ultimo mês e multiplica por 100 paratrazer o valor em porcentagem\n",
    "df['inadimplencia_var_pct'] = df['inadimplencia'].pct_change() *100 #calcula a variação percentual entre o mes atual e o ultimo mês e multiplica por 100 paratrazer o valor em porcentagem\n",
    "\n",
    "# Médias móveis\n",
    "df['selic_mm12'] = df['selic'].rolling(window=12).mean()\n",
    "df['ipca_mm12'] = df['ipca'].rolling(window=12).mean()\n",
    "df['inadimplencia_mm12'] = df['inadimplencia'].rolling(window=12).mean()\n",
    "\n",
    "# Classificação simples de inadimplência\n",
    "df['inadimplencia_nivel'] = pd.cut(df['inadimplencia'],\n",
    "                                   bins=[0, 3, 6, 100],\n",
    "                                   labels=['Baixa', 'Média', 'Alta'])\n",
    "\n",
    "# 3. Integrar Dados (se houver outras fontes, podemos fazer merge aqui)\n",
    "\n",
    "# 4. Formatar os Dados\n",
    "df.set_index('data', inplace=True)  # define a data como índice\n",
    "df = df.round(2)  # arredonda todos os números\n",
    "df = df.dropna()\n",
    "\n",
    "# Exibir o DataFrame final\n",
    "print(df)"
   ]
  }
 ],
 "metadata": {
  "kernelspec": {
   "display_name": "Python 3",
   "language": "python",
   "name": "python3"
  },
  "language_info": {
   "codemirror_mode": {
    "name": "ipython",
    "version": 3
   },
   "file_extension": ".py",
   "mimetype": "text/x-python",
   "name": "python",
   "nbconvert_exporter": "python",
   "pygments_lexer": "ipython3",
   "version": "3.12.4"
  }
 },
 "nbformat": 4,
 "nbformat_minor": 5
}
