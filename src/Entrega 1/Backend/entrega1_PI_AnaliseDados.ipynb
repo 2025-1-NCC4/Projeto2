{
  "nbformat": 4,
  "nbformat_minor": 0,
  "metadata": {
    "colab": {
      "provenance": []
    },
    "kernelspec": {
      "name": "python3",
      "display_name": "Python 3"
    },
    "language_info": {
      "name": "python"
    }
  },
  "cells": [
    {
      "cell_type": "code",
      "execution_count": null,
      "metadata": {
        "id": "9cdkq0aFARGc"
      },
      "outputs": [],
      "source": [
        "!pip install python-bcb"
      ]
    },
    {
      "cell_type": "code",
      "source": [
        "#Taxa de juros sobre empréstimos\n",
        "#Coleta de dados\n",
        "from bcb import sgs\n",
        "jurosMei = sgs.get({'selic': 432, 'saldoCred': 14026, 'inadimplencia': 15885}, start = '1999-01-01')\n",
        "jurosMei = jurosMei.dropna()\n",
        "jurosMei = jurosMei.reset_index()\n",
        "print(jurosMei)"
      ],
      "metadata": {
        "id": "iorNXgsPAW5C"
      },
      "execution_count": null,
      "outputs": []
    },
    {
      "cell_type": "code",
      "source": [
        "conj_jurosMei = sgs.get({'selic': 432, 'saldoCred': 14026, 'inadimplencia': 15885}, start = '1999-01-01')\n",
        "conj_jurosMei = conj_jurosMei.dropna()\n",
        "conj_jurosMei = conj_jurosMei.reset_index()\n",
        "print(conj_jurosMei)"
      ],
      "metadata": {
        "id": "vTZw3RFOAZDv"
      },
      "execution_count": null,
      "outputs": []
    },
    {
      "cell_type": "code",
      "source": [
        "plt.scatter(conj_jurosMei.saldoCred, conj_jurosMei.inadimplencia)\n",
        "plt.ylabel('saldoCred')\n",
        "plt.xlabel('idadimplencia')\n",
        "plt.show()"
      ],
      "metadata": {
        "id": "T6nhEaMtAbUC"
      },
      "execution_count": null,
      "outputs": []
    }
  ]
}